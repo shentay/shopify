{
 "cells": [
  {
   "cell_type": "markdown",
   "id": "bf28c2b7",
   "metadata": {},
   "source": [
    "# Fall 2022 Data Science Intern Challenge"
   ]
  },
  {
   "cell_type": "code",
   "execution_count": 1,
   "id": "b94852f2",
   "metadata": {},
   "outputs": [],
   "source": [
    "# import libraries\n",
    "\n",
    "import pandas as pd\n",
    "import numpy as np\n",
    "import matplotlib.pyplot as plt\n"
   ]
  },
  {
   "cell_type": "markdown",
   "id": "027c96c8",
   "metadata": {},
   "source": [
    "## Question 1\n",
    "Given some sample data, write a program to answer the following:"
   ]
  },
  {
   "cell_type": "markdown",
   "id": "1656386a",
   "metadata": {},
   "source": [
    "### a) Think about what could be going wrong with our calculation. Think about a better way to evaluate this data. "
   ]
  },
  {
   "cell_type": "code",
   "execution_count": 2,
   "id": "d7842f41",
   "metadata": {},
   "outputs": [
    {
     "data": {
      "text/html": [
       "<div>\n",
       "<style scoped>\n",
       "    .dataframe tbody tr th:only-of-type {\n",
       "        vertical-align: middle;\n",
       "    }\n",
       "\n",
       "    .dataframe tbody tr th {\n",
       "        vertical-align: top;\n",
       "    }\n",
       "\n",
       "    .dataframe thead th {\n",
       "        text-align: right;\n",
       "    }\n",
       "</style>\n",
       "<table border=\"1\" class=\"dataframe\">\n",
       "  <thead>\n",
       "    <tr style=\"text-align: right;\">\n",
       "      <th></th>\n",
       "      <th>order_id</th>\n",
       "      <th>shop_id</th>\n",
       "      <th>user_id</th>\n",
       "      <th>order_amount</th>\n",
       "      <th>total_items</th>\n",
       "      <th>payment_method</th>\n",
       "      <th>created_at</th>\n",
       "    </tr>\n",
       "  </thead>\n",
       "  <tbody>\n",
       "    <tr>\n",
       "      <th>0</th>\n",
       "      <td>1</td>\n",
       "      <td>53</td>\n",
       "      <td>746</td>\n",
       "      <td>224</td>\n",
       "      <td>2</td>\n",
       "      <td>cash</td>\n",
       "      <td>2017-03-13 12:36:56</td>\n",
       "    </tr>\n",
       "    <tr>\n",
       "      <th>1</th>\n",
       "      <td>2</td>\n",
       "      <td>92</td>\n",
       "      <td>925</td>\n",
       "      <td>90</td>\n",
       "      <td>1</td>\n",
       "      <td>cash</td>\n",
       "      <td>2017-03-03 17:38:52</td>\n",
       "    </tr>\n",
       "    <tr>\n",
       "      <th>2</th>\n",
       "      <td>3</td>\n",
       "      <td>44</td>\n",
       "      <td>861</td>\n",
       "      <td>144</td>\n",
       "      <td>1</td>\n",
       "      <td>cash</td>\n",
       "      <td>2017-03-14 4:23:56</td>\n",
       "    </tr>\n",
       "    <tr>\n",
       "      <th>3</th>\n",
       "      <td>4</td>\n",
       "      <td>18</td>\n",
       "      <td>935</td>\n",
       "      <td>156</td>\n",
       "      <td>1</td>\n",
       "      <td>credit_card</td>\n",
       "      <td>2017-03-26 12:43:37</td>\n",
       "    </tr>\n",
       "    <tr>\n",
       "      <th>4</th>\n",
       "      <td>5</td>\n",
       "      <td>18</td>\n",
       "      <td>883</td>\n",
       "      <td>156</td>\n",
       "      <td>1</td>\n",
       "      <td>credit_card</td>\n",
       "      <td>2017-03-01 4:35:11</td>\n",
       "    </tr>\n",
       "  </tbody>\n",
       "</table>\n",
       "</div>"
      ],
      "text/plain": [
       "   order_id  shop_id  user_id  order_amount  total_items payment_method  \\\n",
       "0         1       53      746           224            2           cash   \n",
       "1         2       92      925            90            1           cash   \n",
       "2         3       44      861           144            1           cash   \n",
       "3         4       18      935           156            1    credit_card   \n",
       "4         5       18      883           156            1    credit_card   \n",
       "\n",
       "            created_at  \n",
       "0  2017-03-13 12:36:56  \n",
       "1  2017-03-03 17:38:52  \n",
       "2   2017-03-14 4:23:56  \n",
       "3  2017-03-26 12:43:37  \n",
       "4   2017-03-01 4:35:11  "
      ]
     },
     "execution_count": 2,
     "metadata": {},
     "output_type": "execute_result"
    }
   ],
   "source": [
    "# reading the data set\n",
    "data = pd.read_csv('2019 Winter Data Science Intern Challenge Data Set - Sheet1.csv')\n",
    "data.head()"
   ]
  },
  {
   "cell_type": "code",
   "execution_count": 3,
   "id": "8583a3fd",
   "metadata": {},
   "outputs": [
    {
     "data": {
      "text/plain": [
       "False"
      ]
     },
     "execution_count": 3,
     "metadata": {},
     "output_type": "execute_result"
    }
   ],
   "source": [
    "# check for missing data\n",
    "data.isnull().values.any()"
   ]
  },
  {
   "cell_type": "code",
   "execution_count": 4,
   "id": "a62c9a96",
   "metadata": {},
   "outputs": [
    {
     "data": {
      "text/plain": [
       "count      5000.000000\n",
       "mean       3145.128000\n",
       "std       41282.539349\n",
       "min          90.000000\n",
       "25%         163.000000\n",
       "50%         284.000000\n",
       "75%         390.000000\n",
       "max      704000.000000\n",
       "Name: order_amount, dtype: float64"
      ]
     },
     "execution_count": 4,
     "metadata": {},
     "output_type": "execute_result"
    }
   ],
   "source": [
    "# getting the statistical data for the dataset\n",
    "data['order_amount'].describe()"
   ]
  },
  {
   "cell_type": "markdown",
   "id": "17dba561",
   "metadata": {},
   "source": [
    "Based on the statistical data, it seems like the mean of the total order amount is used as the average order value (AOV). Using the mean of the total order amount can be heavily affected by outliers. "
   ]
  },
  {
   "cell_type": "code",
   "execution_count": 5,
   "id": "294f4881",
   "metadata": {},
   "outputs": [
    {
     "data": {
      "image/png": "[encoded data removed]",
      "text/plain": [
       "<Figure size 720x720 with 1 Axes>"
      ]
     },
     "metadata": {
      "needs_background": "light"
     },
     "output_type": "display_data"
    }
   ],
   "source": [
    "# plotting a boxplot of the order amount to visualize the distribution\n",
    "plt.figure(figsize=(10,10))\n",
    "plt.boxplot(data['order_amount'])\n",
    "plt.title('Distribution for Order Amount')\n",
    "plt.ylabel('Order Amount')\n",
    "plt.show()"
   ]
  },
  {
   "cell_type": "markdown",
   "id": "02cdf978",
   "metadata": {},
   "source": [
    "Based on the boxplot, we can clearly see outliers present in the data. A better way to evaluate the data will be to consider all measures of central tendencies which are the mode, median and mean. "
   ]
  },
  {
   "cell_type": "markdown",
   "id": "1d559646",
   "metadata": {},
   "source": [
    "### b) What metric would you report for this dataset?"
   ]
  },
  {
   "cell_type": "markdown",
   "id": "7526000d",
   "metadata": {},
   "source": [
    "Based on the dataset, we know that are our data is a caterogical data and using the mode for a caterogical data would be the choice of metric"
   ]
  },
  {
   "cell_type": "markdown",
   "id": "cb1c98e9",
   "metadata": {},
   "source": [
    "### c) What is its value?"
   ]
  },
  {
   "cell_type": "code",
   "execution_count": 6,
   "id": "991d879c",
   "metadata": {},
   "outputs": [
    {
     "data": {
      "text/plain": [
       "0    153\n",
       "Name: order_amount, dtype: int64"
      ]
     },
     "execution_count": 6,
     "metadata": {},
     "output_type": "execute_result"
    }
   ],
   "source": [
    "data['order_amount'].mode()"
   ]
  },
  {
   "cell_type": "markdown",
   "id": "3008ca2b",
   "metadata": {},
   "source": [
    "The value of the mode is **\\$153**"
   ]
  },
  {
   "cell_type": "markdown",
   "id": "ac1801b2",
   "metadata": {},
   "source": [
    "## Question 2"
   ]
  },
  {
   "cell_type": "markdown",
   "id": "0328bb76",
   "metadata": {},
   "source": [
    "### a) How many orders were shipped by Speedy Express in total?"
   ]
  },
  {
   "cell_type": "markdown",
   "id": "47362c52",
   "metadata": {},
   "source": [
    "SQL Query Used:  \n",
    "SELECT Shippers.ShipperName, COUNT(Orders.OrderID) AS NumberOfOrders FROM Orders  \n",
    "LEFT JOIN Shippers ON Orders.ShipperID = Shippers.ShipperID  \n",
    "GROUP BY ShipperName;"
   ]
  },
  {
   "cell_type": "markdown",
   "id": "6b240764",
   "metadata": {},
   "source": [
    "There were a total of **54** orders shipped by Speedy Express"
   ]
  },
  {
   "cell_type": "markdown",
   "id": "a9fd1dd9",
   "metadata": {},
   "source": [
    "### b) What is the last name of the employee with the most orders?"
   ]
  },
  {
   "cell_type": "markdown",
   "id": "dd1c25dc",
   "metadata": {},
   "source": [
    "SQL Query Used: \n",
    "SELECT Employees.LastName, COUNT(Orders.OrderID) AS NumberOfOrders FROM Orders  \n",
    "LEFT JOIN Employees ON Orders.EmployeeID = Employees.EmployeeID  \n",
    "GROUP BY LastName Order BY NumberOfOrders Desc;"
   ]
  },
  {
   "cell_type": "markdown",
   "id": "e297624c",
   "metadata": {},
   "source": [
    "The last name of the employee with the most orders is **Peacock** with a total of **40** orders"
   ]
  },
  {
   "cell_type": "markdown",
   "id": "e4eada78",
   "metadata": {},
   "source": [
    "### c) What product was ordered the most by customers in Germany?"
   ]
  },
  {
   "cell_type": "markdown",
   "id": "7ab79830",
   "metadata": {},
   "source": [
    "SQL Query Used:   \n",
    "SELECT Products.ProductName, Orders.OrderID, SUM(OrderDetails.Quantity) AS TotalQuantity, Orders.CustomerID, Customers.Country FROM Products  \n",
    "Left JOIN OrderDetails ON Products.ProductID = OrderDetails.ProductID  \n",
    "Left JOIN Orders ON OrderDetails.OrderID = Orders.OrderID  \n",
    "Left JOIN Customers ON Orders.CustomerID = Customers.CustomerID  \n",
    "WHERE Country = 'Germany'  \n",
    "GROUP BY ProductName Order BY TotalQuantity Desc;  "
   ]
  },
  {
   "cell_type": "markdown",
   "id": "7ee41a6c",
   "metadata": {},
   "source": [
    "The product that was ordered the most in Germany is **Boston Crab Meat** with a total of **160** orders."
   ]
  }
 ],
 "metadata": {
  "kernelspec": {
   "display_name": "Python 3 (ipykernel)",
   "language": "python",
   "name": "python3"
  },
  "language_info": {
   "codemirror_mode": {
    "name": "ipython",
    "version": 3
   },
   "file_extension": ".py",
   "mimetype": "text/x-python",
   "name": "python",
   "nbconvert_exporter": "python",
   "pygments_lexer": "ipython3",
   "version": "3.9.4"
  }
 },
 "nbformat": 4,
 "nbformat_minor": 5
}
